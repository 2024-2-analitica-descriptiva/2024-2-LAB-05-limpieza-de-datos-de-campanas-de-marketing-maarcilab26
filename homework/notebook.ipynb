{
 "cells": [
  {
   "cell_type": "code",
   "execution_count": 3,
   "metadata": {},
   "outputs": [
    {
     "name": "stdout",
     "output_type": "stream",
     "text": [
      "Archivos generados en la carpeta files/output/\n"
     ]
    }
   ],
   "source": [
    "import os\n",
    "import pandas as pd\n",
    "from zipfile import ZipFile\n",
    "\n",
    "# Rutas de entrada y salida\n",
    "input_zip_path = \"../files/input/\"\n",
    "output_path = \"../files/output/\"\n",
    "os.makedirs(output_path, exist_ok=True)\n",
    "\n",
    "# Inicializar DataFrames vacíos para cada categoría\n",
    "client_data = []\n",
    "campaign_data = []\n",
    "economics_data = []\n",
    "\n",
    "# Procesar todos los archivos .zip en la carpeta de entrada\n",
    "for zip_filename in os.listdir(input_zip_path):\n",
    "    if zip_filename.endswith(\".zip\"):\n",
    "        with ZipFile(os.path.join(input_zip_path, zip_filename), 'r') as zip_ref:\n",
    "            for file_name in zip_ref.namelist():\n",
    "                with zip_ref.open(file_name) as file:\n",
    "                    df = pd.read_csv(file)\n",
    "\n",
    "                    # --- Procesamiento para client.csv ---\n",
    "                    client_cols = [\"client_id\", \"age\", \"job\", \"marital\", \"education\", \"credit_default\", \"mortgage\"]\n",
    "                    client_df = df[client_cols].copy()\n",
    "\n",
    "                    client_df[\"job\"] = client_df[\"job\"].str.replace(\".\", \"\", regex=False).str.replace(\"-\", \"_\", regex=False)\n",
    "                    client_df[\"education\"] = client_df[\"education\"].str.replace(\".\", \"_\", regex=False).replace(\"unknown\", pd.NA)\n",
    "                    client_df[\"credit_default\"] = client_df[\"credit_default\"].map(lambda x: 1 if x == \"yes\" else 0)\n",
    "                    client_df[\"mortgage\"] = client_df[\"mortgage\"].map(lambda x: 1 if x == \"yes\" else 0)\n",
    "\n",
    "                    client_data.append(client_df)\n",
    "\n",
    "                    # --- Procesamiento para campaign.csv ---\n",
    "                    campaign_cols = [\n",
    "                        \"client_id\", \"number_contacts\", \"contact_duration\",\n",
    "                        \"previous_campaign_contacts\", \"previous_outcome\", \"campaign_outcome\", \"day\", \"month\"\n",
    "                    ]\n",
    "                    campaign_df = df[campaign_cols].copy()\n",
    "\n",
    "                    campaign_df[\"previous_outcome\"] = campaign_df[\"previous_outcome\"].map(lambda x: 1 if x == \"success\" else 0)\n",
    "                    campaign_df[\"campaign_outcome\"] = campaign_df[\"campaign_outcome\"].map(lambda x: 1 if x == \"yes\" else 0)\n",
    "                    campaign_df[\"last_contact_date\"] = pd.to_datetime(\n",
    "                        campaign_df[\"day\"].astype(str) + \"-\" + campaign_df[\"month\"] + \"-2022\", format=\"%d-%b-%Y\"\n",
    "                    )\n",
    "                    campaign_df.drop(columns=[\"day\", \"month\"], inplace=True)\n",
    "\n",
    "                    campaign_data.append(campaign_df)\n",
    "\n",
    "                    # --- Procesamiento para economics.csv ---\n",
    "                    economics_cols = [\"client_id\", \"cons_price_idx\", \"euribor_three_months\"]\n",
    "                    economics_df = df[economics_cols].copy()\n",
    "\n",
    "                    economics_data.append(economics_df)\n",
    "\n",
    "# Combinar los datos de todos los archivos y guardar los resultados\n",
    "final_client_df = pd.concat(client_data, ignore_index=True)\n",
    "final_client_df.to_csv(os.path.join(output_path, \"client.csv\"), index=False)\n",
    "\n",
    "final_campaign_df = pd.concat(campaign_data, ignore_index=True)\n",
    "final_campaign_df.to_csv(os.path.join(output_path, \"campaign.csv\"), index=False)\n",
    "\n",
    "final_economics_df = pd.concat(economics_data, ignore_index=True)\n",
    "final_economics_df.to_csv(os.path.join(output_path, \"economics.csv\"), index=False)\n",
    "\n",
    "print(\"Archivos generados en la carpeta files/output/\")"
   ]
  }
 ],
 "metadata": {
  "kernelspec": {
   "display_name": ".venv",
   "language": "python",
   "name": "python3"
  },
  "language_info": {
   "codemirror_mode": {
    "name": "ipython",
    "version": 3
   },
   "file_extension": ".py",
   "mimetype": "text/x-python",
   "name": "python",
   "nbconvert_exporter": "python",
   "pygments_lexer": "ipython3",
   "version": "3.10.9"
  }
 },
 "nbformat": 4,
 "nbformat_minor": 2
}
